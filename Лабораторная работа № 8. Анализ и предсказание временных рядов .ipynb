{
 "cells": [
  {
   "cell_type": "code",
   "execution_count": 1,
   "id": "1043fa49",
   "metadata": {},
   "outputs": [],
   "source": [
    "import pandas as pd\n",
    "import numpy as np\n",
    "from statsmodels.tsa.stattools import adfuller\n",
    "from statsmodels.tsa.seasonal import seasonal_decompose\n",
    "from statsmodels.tsa.arima.model import ARIMA\n",
    "from sklearn.metrics import mean_absolute_error, mean_absolute_percentage_error"
   ]
  },
  {
   "cell_type": "code",
   "execution_count": 3,
   "id": "393f82d7",
   "metadata": {},
   "outputs": [],
   "source": [
    "# Шаг 1: Загрузка данных о времени\n",
    "\n",
    "data = pd.read_csv('Time_Series_clients_2016-2019.csv')\n",
    "data['date'] = pd.to_datetime(data['date'])"
   ]
  },
  {
   "cell_type": "code",
   "execution_count": 4,
   "id": "a33a6f9f",
   "metadata": {},
   "outputs": [
    {
     "data": {
      "text/html": [
       "<div>\n",
       "<style scoped>\n",
       "    .dataframe tbody tr th:only-of-type {\n",
       "        vertical-align: middle;\n",
       "    }\n",
       "\n",
       "    .dataframe tbody tr th {\n",
       "        vertical-align: top;\n",
       "    }\n",
       "\n",
       "    .dataframe thead th {\n",
       "        text-align: right;\n",
       "    }\n",
       "</style>\n",
       "<table border=\"1\" class=\"dataframe\">\n",
       "  <thead>\n",
       "    <tr style=\"text-align: right;\">\n",
       "      <th></th>\n",
       "      <th>date</th>\n",
       "      <th>came</th>\n",
       "    </tr>\n",
       "  </thead>\n",
       "  <tbody>\n",
       "    <tr>\n",
       "      <th>0</th>\n",
       "      <td>2016-01-10</td>\n",
       "      <td>1345</td>\n",
       "    </tr>\n",
       "    <tr>\n",
       "      <th>1</th>\n",
       "      <td>2016-01-17</td>\n",
       "      <td>2066</td>\n",
       "    </tr>\n",
       "    <tr>\n",
       "      <th>2</th>\n",
       "      <td>2016-01-24</td>\n",
       "      <td>1979</td>\n",
       "    </tr>\n",
       "    <tr>\n",
       "      <th>3</th>\n",
       "      <td>2016-01-31</td>\n",
       "      <td>1909</td>\n",
       "    </tr>\n",
       "    <tr>\n",
       "      <th>4</th>\n",
       "      <td>2016-02-07</td>\n",
       "      <td>1575</td>\n",
       "    </tr>\n",
       "  </tbody>\n",
       "</table>\n",
       "</div>"
      ],
      "text/plain": [
       "        date  came\n",
       "0 2016-01-10  1345\n",
       "1 2016-01-17  2066\n",
       "2 2016-01-24  1979\n",
       "3 2016-01-31  1909\n",
       "4 2016-02-07  1575"
      ]
     },
     "execution_count": 4,
     "metadata": {},
     "output_type": "execute_result"
    }
   ],
   "source": [
    "data.head()"
   ]
  },
  {
   "cell_type": "code",
   "execution_count": 16,
   "id": "6f09b118",
   "metadata": {},
   "outputs": [
    {
     "name": "stdout",
     "output_type": "stream",
     "text": [
      "Результаты теста Дики-Фуллера :\n",
      "Статистика тестов : -1.293736019906016\n",
      "P-значение : 0.632033197296583\n",
      "Критические значения :\n",
      "\t1%: -3.47086589632514\n",
      "\t5%: -2.879330279087651\n",
      "\t10%: -2.57625492712671\n"
     ]
    }
   ],
   "source": [
    "# Шаг 2: Тест Дики-Фуллера для проверки стационарности последовательного времени\n",
    "\n",
    "result = adfuller(data['came'])\n",
    "print(\"Результаты теста Дики-Фуллера :\")\n",
    "print(f\"Статистика тестов : {result[0]}\")\n",
    "print(f\"P-значение : {result[1]}\")\n",
    "print(f\"Критические значения :\")\n",
    "for key, value in result[4].items():\n",
    "    print(f\"\\t{key}: {value}\")"
   ]
  },
  {
   "cell_type": "code",
   "execution_count": 18,
   "id": "571852f5",
   "metadata": {},
   "outputs": [],
   "source": [
    "# Шаг 3: Разложение последовательного времени\n",
    "\n",
    "decomposition = seasonal_decompose(data['came'], model='additive', period=7)\n",
    "trend = decomposition.trend\n",
    "seasonal = decomposition.seasonal\n",
    "residuals = decomposition.resid"
   ]
  },
  {
   "cell_type": "code",
   "execution_count": 19,
   "id": "5f33f14e",
   "metadata": {},
   "outputs": [
    {
     "name": "stdout",
     "output_type": "stream",
     "text": [
      "Статистика теста Дики-Фуллера после преобразования : -1.4972692876443763\n",
      "p-значение после преобразования : 0.5348617481593065\n",
      "Критические значения после преобразования : {'1%': -3.470616369591229, '5%': -2.8792214018977655, '10%': -2.57619681359045}\n"
     ]
    }
   ],
   "source": [
    "from scipy.stats import boxcox\n",
    "# Шаг 4: преобразование Бокса-Кокса и тест Дики-Фуллера\n",
    "\n",
    "transformed_data, lambda_value = boxcox(data['came'])\n",
    "transformed_result = adfuller(transformed_data)\n",
    "print('Статистика теста Дики-Фуллера после преобразования :', transformed_result[0])\n",
    "print('p-значение после преобразования :', transformed_result[1])\n",
    "print('Критические значения после преобразования :', transformed_result[4])"
   ]
  },
  {
   "cell_type": "code",
   "execution_count": 20,
   "id": "22db5cc8",
   "metadata": {},
   "outputs": [],
   "source": [
    "# Шаг 5: Обучение модели ARIMA и прогнозирование\n",
    "\n",
    "train_size = int(len(data) * 0.8)\n",
    "train_data = data['came'][:train_size]\n",
    "test_data = data['came'][train_size:]\n",
    "model = ARIMA(train_data, order=(1, 1, 1))\n",
    "model_fit = model.fit()\n",
    "predictions = model_fit.predict(start=train_size, end=train_size + len(test_data) - 1)"
   ]
  },
  {
   "cell_type": "code",
   "execution_count": 21,
   "id": "b575b76b",
   "metadata": {},
   "outputs": [],
   "source": [
    "# Шаг 6: Рассчитать показатели оценки\n",
    "\n",
    "mae = mean_absolute_error(test_data, predictions)\n",
    "mape = mean_absolute_percentage_error(test_data, predictions)\n",
    "smape = 2 * np.mean(np.abs(predictions - test_data) / (np.abs(predictions) + np.abs(test_data)))"
   ]
  },
  {
   "cell_type": "code",
   "execution_count": 22,
   "id": "c99c8308",
   "metadata": {},
   "outputs": [
    {
     "name": "stdout",
     "output_type": "stream",
     "text": [
      "Показатели оценки :\n",
      "MAE : 124.97939652317024\n",
      "MAPE : 0.09535299503206908\n",
      "SMAPE : 0.08907347947124689\n"
     ]
    }
   ],
   "source": [
    "print(\"Показатели оценки :\")\n",
    "print(f\"MAE : {mae}\")\n",
    "print(f\"MAPE : {mape}\")\n",
    "print(f\"SMAPE : {smape}\")"
   ]
  },
  {
   "cell_type": "code",
   "execution_count": null,
   "id": "e92e2e4b",
   "metadata": {},
   "outputs": [],
   "source": []
  },
  {
   "cell_type": "code",
   "execution_count": null,
   "id": "dd1f28c6",
   "metadata": {},
   "outputs": [],
   "source": []
  },
  {
   "cell_type": "code",
   "execution_count": null,
   "id": "bcc9ce5c",
   "metadata": {},
   "outputs": [],
   "source": []
  }
 ],
 "metadata": {
  "kernelspec": {
   "display_name": "Python 3 (ipykernel)",
   "language": "python",
   "name": "python3"
  },
  "language_info": {
   "codemirror_mode": {
    "name": "ipython",
    "version": 3
   },
   "file_extension": ".py",
   "mimetype": "text/x-python",
   "name": "python",
   "nbconvert_exporter": "python",
   "pygments_lexer": "ipython3",
   "version": "3.9.12"
  }
 },
 "nbformat": 4,
 "nbformat_minor": 5
}
